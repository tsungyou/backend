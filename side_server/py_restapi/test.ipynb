{
 "cells": [
  {
   "cell_type": "code",
   "execution_count": 1,
   "metadata": {},
   "outputs": [],
   "source": [
    "import psycopg2\n",
    "DB_HOST = 'localhost'\n",
    "DB_NAME = 'tw'\n",
    "DB_USER = 'mini'\n",
    "DB_PASS = 'buddyrich134'\n",
    "def get_db_connection():\n",
    "    conn = psycopg2.connect(host=DB_HOST, dbname=DB_NAME, user=DB_USER, password=DB_PASS)\n",
    "    return conn\n",
    "\n",
    "conn = get_db_connection()\n",
    "cursor = conn.cursor()\n"
   ]
  },
  {
   "cell_type": "code",
   "execution_count": null,
   "metadata": {},
   "outputs": [],
   "source": [
    "NOW() - INTERVAL '60 days'"
   ]
  },
  {
   "cell_type": "code",
   "execution_count": null,
   "metadata": {},
   "outputs": [],
   "source": [
    "from psycopg2 import sql\n",
    "query = sql.SQL('''\n",
    "select * from public.price where code ='2330' AND da >= NOW() - INTERVAL '90 days' order by da desc;\n",
    "''')\n",
    "\n",
    "conn = get_db_connection()\n",
    "cursor = conn.cursor()\n",
    "cursor.execute(query)\n",
    "result = cursor.fetchall()\n",
    "col = [desc[0] for desc in cursor.description]\n",
    "final = [{i[0]: {col[j]: i[j] for j in range(1, len(col))} for i in result}]\n",
    "result"
   ]
  },
  {
   "cell_type": "code",
   "execution_count": 11,
   "metadata": {},
   "outputs": [],
   "source": [
    "from psycopg2 import sql\n",
    "query = sql.SQL('''\n",
    "select * from public.price where code ='2330' AND da >= '2024-01-01' order by da desc;\n",
    "''')\n",
    "\n",
    "conn = get_db_connection()\n",
    "cursor = conn.cursor()\n",
    "cursor.execute(query)\n",
    "result = cursor.fetchall()\n",
    "col = [desc[0] for desc in cursor.description]\n",
    "final = [{i[0]: {col[j]: i[j] for j in range(1, len(col))} for i in result}]\n"
   ]
  },
  {
   "cell_type": "markdown",
   "metadata": {},
   "source": [
    "## Insert maincode from pe"
   ]
  },
  {
   "cell_type": "code",
   "execution_count": null,
   "metadata": {},
   "outputs": [],
   "source": []
  }
 ],
 "metadata": {
  "kernelspec": {
   "display_name": "Python 3",
   "language": "python",
   "name": "python3"
  },
  "language_info": {
   "codemirror_mode": {
    "name": "ipython",
    "version": 3
   },
   "file_extension": ".py",
   "mimetype": "text/x-python",
   "name": "python",
   "nbconvert_exporter": "python",
   "pygments_lexer": "ipython3",
   "version": "3.11.9"
  }
 },
 "nbformat": 4,
 "nbformat_minor": 2
}
